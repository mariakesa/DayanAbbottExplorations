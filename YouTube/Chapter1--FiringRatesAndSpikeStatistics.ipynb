{
 "cells": [
  {
   "cell_type": "markdown",
   "metadata": {},
   "source": [
    "This notebook was inspired by Dayan and Abbott Chapter 1 Exercises \n",
    "https://www.gatsby.ucl.ac.uk/~dayan/book/exercises/c1/c1.pdf\n",
    "\n",
    "The algorithm for generating Poisson numbers is well explained here:\n",
    "https://www.tu-chemnitz.de/informatik/KI/scripts/ws0910/Neuron_Poisson.pdf\n"
   ]
  },
  {
   "cell_type": "raw",
   "metadata": {},
   "source": [
    "import numpy as np\n",
    "import matplotlib.pyplot as plt\n",
    "%matplotlib inline"
   ]
  },
  {
   "cell_type": "code",
   "execution_count": 44,
   "metadata": {},
   "outputs": [],
   "source": [
    "def generate_poisson(rate=100,dt=0.001,T=10):\n",
    "    spike_vec=[]\n",
    "    for time_p in range(int(T/dt)):\n",
    "        rand_n=np.random.uniform(0,1,1).item()\n",
    "        if rate*dt>rand_n:\n",
    "            spike_vec.append(1)\n",
    "        else:\n",
    "            spike_vec.append(0)\n",
    "    return np.array(spike_vec)"
   ]
  },
  {
   "cell_type": "code",
   "execution_count": 49,
   "metadata": {},
   "outputs": [],
   "source": [
    "spike_vec_1ms=generate_poisson()"
   ]
  },
  {
   "cell_type": "code",
   "execution_count": 50,
   "metadata": {},
   "outputs": [
    {
     "data": {
      "text/plain": [
       "[<matplotlib.collections.EventCollection at 0x7fca09c6b490>]"
      ]
     },
     "execution_count": 50,
     "metadata": {},
     "output_type": "execute_result"
    },
    {
     "data": {
      "image/png": "[encoded data removed]",
      "text/plain": [
       "<Figure size 432x288 with 1 Axes>"
      ]
     },
     "metadata": {
      "needs_background": "light"
     },
     "output_type": "display_data"
    }
   ],
   "source": [
    "#plot spike raster\n",
    "plt.eventplot(np.nonzero(spike_vec_1ms[0:500])[0])"
   ]
  }
 ],
 "metadata": {
  "kernelspec": {
   "display_name": "Python 3",
   "language": "python",
   "name": "python3"
  },
  "language_info": {
   "codemirror_mode": {
    "name": "ipython",
    "version": 3
   },
   "file_extension": ".py",
   "mimetype": "text/x-python",
   "name": "python",
   "nbconvert_exporter": "python",
   "pygments_lexer": "ipython3",
   "version": "3.7.4"
  }
 },
 "nbformat": 4,
 "nbformat_minor": 2
}
