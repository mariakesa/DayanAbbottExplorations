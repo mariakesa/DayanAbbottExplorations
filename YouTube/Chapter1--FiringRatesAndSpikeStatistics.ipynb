{
 "cells": [
  {
   "cell_type": "markdown",
   "metadata": {},
   "source": [
    "This notebook was inspired by Dayan and Abbott Chapter 1 Exercises \n",
    "https://www.gatsby.ucl.ac.uk/~dayan/book/exercises/c1/c1.pdf\n",
    "\n",
    "The algorithm for generating Poisson numbers is well explained here:\n",
    "https://www.tu-chemnitz.de/informatik/KI/scripts/ws0910/Neuron_Poisson.pdf\n"
   ]
  },
  {
   "cell_type": "raw",
   "metadata": {},
   "source": [
    "import numpy as np\n",
    "import matplotlib.pyplot as plt\n",
    "%matplotlib inline"
   ]
  },
  {
   "cell_type": "code",
   "execution_count": 44,
   "metadata": {},
   "outputs": [],
   "source": [
    "def generate_poisson(rate=100,dt=0.001,T=10):\n",
    "    spike_vec=[]\n",
    "    for time_p in range(int(T/dt)):\n",
    "        rand_n=np.random.uniform(0,1,1).item()\n",
    "        if rate*dt>rand_n:\n",
    "            spike_vec.append(1)\n",
    "        else:\n",
    "            spike_vec.append(0)\n",
    "    return np.array(spike_vec)"
   ]
  },
  {
   "cell_type": "code",
   "execution_count": 70,
   "metadata": {},
   "outputs": [],
   "source": [
    "spike_vec_1ms=generate_poisson()"
   ]
  },
  {
   "cell_type": "code",
   "execution_count": 71,
   "metadata": {},
   "outputs": [
    {
     "data": {
      "text/plain": [
       "[<matplotlib.collections.EventCollection at 0x7fca09580ed0>]"
      ]
     },
     "execution_count": 71,
     "metadata": {},
     "output_type": "execute_result"
    },
    {
     "data": {
      "image/png": "[encoded data removed]",
      "text/plain": [
       "<Figure size 432x288 with 1 Axes>"
      ]
     },
     "metadata": {
      "needs_background": "light"
     },
     "output_type": "display_data"
    }
   ],
   "source": [
    "#plot spike raster\n",
    "plt.eventplot(np.nonzero(spike_vec_1ms[0:500])[0],animated=True)"
   ]
  },
  {
   "cell_type": "code",
   "execution_count": 90,
   "metadata": {
    "scrolled": true
   },
   "outputs": [
    {
     "data": {
      "image/png": "[encoded data removed]",
      "text/plain": [
       "<Figure size 432x288 with 1 Axes>"
      ]
     },
     "metadata": {
      "needs_background": "light"
     },
     "output_type": "display_data"
    }
   ],
   "source": [
    "import numpy as np\n",
    "from matplotlib import pyplot as plt\n",
    "from matplotlib.animation import FuncAnimation\n",
    "plt.style.use('seaborn-pastel')\n",
    "\n",
    "\n",
    "fig = plt.figure()\n",
    "ax = plt.axes(xlim=(0, 100), ylim=(0, 1))\n",
    "line, = ax.plot([], [], lw=3)\n",
    "\n",
    "def init():\n",
    "    line.set_data([], [])\n",
    "    return line,\n",
    "def animate(i):\n",
    "    x=np.arange(0,100)\n",
    "    y = spike_vec_1ms[i*100:(i+1)*100]\n",
    "    line.set_data(x, y)\n",
    "    return line,\n",
    "\n",
    "anim = FuncAnimation(fig, animate, init_func=init,\n",
    "                               frames=100, interval=100, blit=True)\n",
    "\n",
    "\n",
    "anim.save('spikes.gif', writer='imagemagick')"
   ]
  },
  {
   "cell_type": "code",
   "execution_count": 91,
   "metadata": {},
   "outputs": [
    {
     "data": {
      "text/html": [
       "<img src=\"spikes.gif\"/>"
      ],
      "text/plain": [
       "<IPython.core.display.Image object>"
      ]
     },
     "execution_count": 91,
     "metadata": {},
     "output_type": "execute_result"
    }
   ],
   "source": [
    "from IPython.display import Image\n",
    "Image(url='spikes.gif')  "
   ]
  }
 ],
 "metadata": {
  "kernelspec": {
   "display_name": "Python 3",
   "language": "python",
   "name": "python3"
  },
  "language_info": {
   "codemirror_mode": {
    "name": "ipython",
    "version": 3
   },
   "file_extension": ".py",
   "mimetype": "text/x-python",
   "name": "python",
   "nbconvert_exporter": "python",
   "pygments_lexer": "ipython3",
   "version": "3.7.4"
  }
 },
 "nbformat": 4,
 "nbformat_minor": 2
}
