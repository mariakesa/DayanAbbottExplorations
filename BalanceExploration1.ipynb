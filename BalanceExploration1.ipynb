{
 "cells": [
  {
   "cell_type": "code",
   "execution_count": 1,
   "metadata": {},
   "outputs": [],
   "source": [
    "# -*- coding: utf-8 -*-\n",
    "\"\"\"\n",
    "Created on Thu Jul 21 14:33:09 2016\n",
    "\n",
    "@author: tachukao\n",
    "\"\"\"\n",
    "\n",
    "import numpy as np\n",
    "#import matplotlib.pyplot as plt\n",
    "from numpy import linalg as npLA\n",
    "from scipy import linalg as spLA\n",
    "\n",
    "def SOC(num_neurons,p,R):\n",
    "    C = 1.5; # numerical constant\n",
    "    gamma = 3;\n",
    "    n = 10; #learning rate\n",
    "    first_quadrant = np.arange(num_neurons/2)\n",
    "    second_quadrant = first_quadrant + num_neurons/2\n",
    "    first_quadrant=first_quadrant.astype('int')\n",
    "    second_quadrant=second_quadrant.astype('int')\n",
    "    \n",
    "    \n",
    "    W = np.zeros((num_neurons,num_neurons));\n",
    "    w0 =  R / np.sqrt(p * (1-p) * (1 + gamma**2) /2)\n",
    "    for i in np.arange(num_neurons):\n",
    "        for j in np.arange(num_neurons):\n",
    "            if i != j:\n",
    "                if np.random.rand() < p and j <= num_neurons/2:\n",
    "                    W[i,j] = w0 / np.sqrt(num_neurons);\n",
    "                elif np.random.rand() < p and j > num_neurons/2:\n",
    "                    W[i,j] = - gamma * w0 / np.sqrt(num_neurons);\n",
    "        \n",
    "    W_adj = np.zeros((num_neurons,num_neurons));\n",
    "    W_adj[W.nonzero()] = 1;\n",
    "    A = np.random.rand(num_neurons,num_neurons);\n",
    "    A[A < 0.35] = -1;\n",
    "    A[A >= 0.35] = 0;\n",
    "    A[A < 0] = 1;\n",
    "    A = A - np.diag(np.diag(A));\n",
    "    W_adj = W_adj + A - W_adj * A;\n",
    "    \n",
    "    \n",
    "    alpha = max(np.real(npLA.eig(W)[0]));\n",
    "    s = max(C * alpha,alpha+0.2);\n",
    "    Q = spLA.solve_lyapunov(np.transpose(W - s * np.eye(num_neurons)), - 2 * np.eye(num_neurons));\n",
    "    i = 0;\n",
    "#    plt.figure();\n",
    "#    plt.isinteractive = False;\n",
    "    step = 0;\n",
    "#    e = 1 / np. trace(Q);\n",
    "    while alpha >= 0.2:\n",
    "        # solve Lyapunov equation\n",
    "        step = step + 1;\n",
    "        if np.mod(step,500) == 0:\n",
    "            print(\"number of steps: \", step, \"; alpha:\", alpha)\n",
    "        \n",
    "        P = spLA.solve_lyapunov(W - s * np.eye(num_neurons), - 2 * np.eye(num_neurons));\n",
    "        deltaW = n * np.dot(Q,P) / np.trace(np.dot(Q,P));\n",
    "        deltaW[:,first_quadrant] = 0;\n",
    "        W = W - deltaW;\n",
    "        \n",
    "        # clipping positive inhibition neurons to zero\n",
    "        W_i = W[:,second_quadrant];\n",
    "        W_i[W_i>0] = 0;\n",
    "        W = np.hstack((W[:,first_quadrant],W_i));\n",
    "        \n",
    "    #    # impost relative inhibitory strength constraint\n",
    "        W_EE = W[np.ix_(first_quadrant,first_quadrant)];\n",
    "        W_EI = W[np.ix_(first_quadrant,second_quadrant)];\n",
    "        W_IE = W[np.ix_(second_quadrant,first_quadrant)];\n",
    "        W_II = W[np.ix_(second_quadrant,second_quadrant)];    \n",
    "        W_EI = - gamma * W_EI * np.mean(W_EE) / np.mean(W_EI);\n",
    "        W_II = - gamma * W_II * np.mean(W_IE) / np.mean(W_II);\n",
    "        W = np.vstack((np.hstack((W_EE,W_EI)),np.hstack((W_IE,W_II))));\n",
    "        \n",
    "        # impose density constraints\n",
    "        W[W_adj ==0] = 0;\n",
    "        \n",
    "#        i = i + 1;\n",
    "#        if np.mod(i,20) == 0:\n",
    "#            plt.clf();\n",
    "#            plt.axis([-5, 5, -5 ,5]) \n",
    "#            plt.plot(npLA.eig(W)[0].real,npLA.eig(W)[0].imag,'ro');\n",
    "#            plt.ion();        \n",
    "#            plt.draw()        \n",
    "#            plt.pause(0.01);\n",
    "             \n",
    "            \n",
    "        alpha = max(np.real(npLA.eig(W)[0]));\n",
    "        s = max(C * alpha,alpha + 0.2);\n",
    "        Q = spLA.solve_lyapunov(np.transpose(W - s * np.eye(num_neurons)), - 2 * np.eye(num_neurons));\n",
    "#        e = 1 / np.trace(Q);\n",
    "    a_l = npLA.eig(Q)[1][:,np.argmax(npLA.eig(Q)[0])]\n",
    "    a_r = npLA.eig(Q)[1][:,np.argsort(npLA.eig(Q)[0])[-2]]\n",
    "    return W,a_l,a_r, alpha\n",
    "\n"
   ]
  },
  {
   "cell_type": "code",
   "execution_count": null,
   "metadata": {},
   "outputs": [
    {
     "name": "stdout",
     "output_type": "stream",
     "text": [
      "number of steps:  500 ; alpha: 2.662640377029549\n",
      "number of steps:  1000 ; alpha: 1.6741055085573822\n",
      "number of steps:  1500 ; alpha: 1.1784958052127636\n",
      "number of steps:  2000 ; alpha: 0.97272043597015\n",
      "number of steps:  2500 ; alpha: 0.8275720861721898\n",
      "number of steps:  3000 ; alpha: 0.7151010546889616\n",
      "number of steps:  3500 ; alpha: 0.6250130186323046\n",
      "number of steps:  4000 ; alpha: 0.5405724268797203\n",
      "number of steps:  4500 ; alpha: 0.47076052444029\n",
      "number of steps:  5000 ; alpha: 0.3958319927284133\n",
      "number of steps:  5500 ; alpha: 0.3563355592520767\n",
      "number of steps:  6000 ; alpha: 0.339662337438287\n"
     ]
    }
   ],
   "source": [
    "W,a_l,a_r,alpha=SOC(500,0.1,10)"
   ]
  },
  {
   "cell_type": "code",
   "execution_count": 18,
   "metadata": {},
   "outputs": [
    {
     "name": "stdout",
     "output_type": "stream",
     "text": [
      "(200, 200)\n"
     ]
    }
   ],
   "source": [
    "z=np.load('/media/maria/DATA1/Documents/Neocortex/SOC/soc.txt.npy')\n",
    "print(z.shape)"
   ]
  }
 ],
 "metadata": {
  "kernelspec": {
   "display_name": "Python 3",
   "language": "python",
   "name": "python3"
  },
  "language_info": {
   "codemirror_mode": {
    "name": "ipython",
    "version": 3
   },
   "file_extension": ".py",
   "mimetype": "text/x-python",
   "name": "python",
   "nbconvert_exporter": "python",
   "pygments_lexer": "ipython3",
   "version": "3.7.4"
  }
 },
 "nbformat": 4,
 "nbformat_minor": 2
}
