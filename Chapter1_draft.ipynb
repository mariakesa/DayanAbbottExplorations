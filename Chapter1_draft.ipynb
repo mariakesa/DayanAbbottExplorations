{
 "cells": [
  {
   "cell_type": "markdown",
   "metadata": {},
   "source": [
    "# Chapter 1\n",
    "The exercises are available here http://www.gatsby.ucl.ac.uk/~dayan/book/exercises/c1/c1.pdf."
   ]
  },
  {
   "cell_type": "code",
   "execution_count": 10,
   "metadata": {},
   "outputs": [],
   "source": [
    "from elephant.spike_train_generation import homogeneous_poisson_process\n",
    "from quantities import Hz, s, ms\n",
    "import matplotlib.pyplot as plt\n",
    "import numpy as np"
   ]
  },
  {
   "cell_type": "markdown",
   "metadata": {},
   "source": [
    "# One"
   ]
  },
  {
   "cell_type": "code",
   "execution_count": 12,
   "metadata": {},
   "outputs": [
    {
     "name": "stderr",
     "output_type": "stream",
     "text": [
      "/home/maria/anaconda3/lib/python3.6/site-packages/quantities/quantity.py:321: RuntimeWarning: divide by zero encountered in true_divide\n",
      "  return np.true_divide(other, self)\n"
     ]
    },
    {
     "data": {
      "text/plain": [
       "[<matplotlib.lines.Line2D at 0x7f5016df1d30>]"
      ]
     },
     "execution_count": 12,
     "metadata": {},
     "output_type": "execute_result"
    },
    {
     "data": {
      "image/png": "[encoded data removed]",
      "text/plain": [
       "<Figure size 432x288 with 1 Axes>"
      ]
     },
     "metadata": {},
     "output_type": "display_data"
    }
   ],
   "source": [
    "spiketrain=homogeneous_poisson_process(rate=100.0*Hz, t_start=0.0*s, t_stop=10.0*s)\n",
    "t = spiketrain.rescale(ms)\n",
    "plt.plot(t[0:100], np.ones_like(t)[0:100], 'k.', markersize=2)"
   ]
  },
  {
   "cell_type": "code",
   "execution_count": 16,
   "metadata": {},
   "outputs": [
    {
     "data": {
      "text/plain": [
       "(array([499., 266., 118.,  44.,  32.,  19.,   8.,   0.,   2.,   1.]),\n",
       " array([1.93782341e-05, 7.34175373e-03, 1.46641292e-02, 2.19865047e-02,\n",
       "        2.93088802e-02, 3.66312557e-02, 4.39536312e-02, 5.12760067e-02,\n",
       "        5.85983822e-02, 6.59207577e-02, 7.32431332e-02]),\n",
       " <a list of 10 Patch objects>)"
      ]
     },
     "execution_count": 16,
     "metadata": {},
     "output_type": "execute_result"
    },
    {
     "data": {
      "image/png": "[encoded data removed]",
      "text/plain": [
       "<Figure size 432x288 with 1 Axes>"
      ]
     },
     "metadata": {},
     "output_type": "display_data"
    }
   ],
   "source": [
    "#print(spiketrain)\n",
    "isi=[]\n",
    "for spike_ind in range(0,len(spiketrain)-1):\n",
    "    isi.append(spiketrain[spike_ind+1]-spiketrain[spike_ind])\n",
    "plt.hist(isi)"
   ]
  }
 ],
 "metadata": {
  "kernelspec": {
   "display_name": "Python 3",
   "language": "python",
   "name": "python3"
  },
  "language_info": {
   "codemirror_mode": {
    "name": "ipython",
    "version": 3
   },
   "file_extension": ".py",
   "mimetype": "text/x-python",
   "name": "python",
   "nbconvert_exporter": "python",
   "pygments_lexer": "ipython3",
   "version": "3.6.5"
  }
 },
 "nbformat": 4,
 "nbformat_minor": 2
}
